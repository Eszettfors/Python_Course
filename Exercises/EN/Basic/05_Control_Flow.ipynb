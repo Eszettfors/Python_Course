{
 "cells": [
  {
   "cell_type": "markdown",
   "metadata": {},
   "source": [
    "# Introduction to Python   \n",
    "\n",
    "### Control Flow"
   ]
  },
  {
   "cell_type": "code",
   "execution_count": null,
   "metadata": {},
   "outputs": [],
   "source": [
    "import time\n",
    "import random"
   ]
  },
  {
   "cell_type": "markdown",
   "metadata": {},
   "source": [
    "A brief note about measuring time to run a cell  "
   ]
  },
  {
   "cell_type": "code",
   "execution_count": null,
   "metadata": {},
   "outputs": [],
   "source": [
    "print(time.time()/((3600*24*365)+13)) # The Unix time started in 1970...\n"
   ]
  },
  {
   "cell_type": "raw",
   "metadata": {},
   "source": [
    "t0 = time.time()\n",
    "<code>\n",
    "print(time.time() - t0)"
   ]
  },
  {
   "cell_type": "markdown",
   "metadata": {},
   "source": [
    "### 1- Create a script that prints the numbers from 1 to 100, following these rules:   \n",
    "\n",
    "1. in those that are multiples of 3, print \"Fizz\" instead of the number.  \n",
    "2. in those that are  multiples of 5 print \"Buzz\" instead of the number.  \n",
    "3. For numbers that are multiples of both 3 and 5, print \"FizzBuzz\".  "
   ]
  },
  {
   "cell_type": "code",
   "execution_count": null,
   "metadata": {},
   "outputs": [],
   "source": [
    "for number in range(1, 101):\n",
    "    if number%3 == 0 and number%5 == 0:\n",
    "        print('FizzBuzz')\n",
    "    elif number%3 == 0:\n",
    "        print('Fizz')\n",
    "    elif number %5 == 0:\n",
    "        print('Buzz')\n",
    "    else:\n",
    "        print(number)\n",
    "    "
   ]
  },
  {
   "cell_type": "markdown",
   "metadata": {},
   "source": [
    "### 2 - Given the list:"
   ]
  },
  {
   "cell_type": "code",
   "execution_count": null,
   "metadata": {},
   "outputs": [],
   "source": [
    "list1 = [1,2,3,'4',5,6.3,7.4 + 2j,\"123\",[1,2,3], 93, \"98\"]"
   ]
  },
  {
   "cell_type": "markdown",
   "metadata": {},
   "source": [
    "### Create a script or function to print each element of a list, along with its predecessor and its successor. Follow these rules:\n",
    "\n",
    "1. If this element is numeric or a string, print its representational value; and\n",
    "2. If the element is a container but not a string (tuple, list, dict, set, frozenset), print each element of the sequence."
   ]
  },
  {
   "cell_type": "code",
   "execution_count": null,
   "metadata": {},
   "outputs": [],
   "source": [
    "def elem_printer(a):\n",
    "    indexer = -1\n",
    "    for elem in a:\n",
    "        try:   \n",
    "            indexer += 1\n",
    "            if type(elem) in [type(0), type(0.0), type('string')]:\n",
    "                print(elem, a[indexer-1], a[indexer+1])\n",
    "            elif type(elem) in [type((0,0)), type([ ]), type({\"key\":\"value\"}), type({\"a\" ,\"b\"}), type(2 + 3j)]:\n",
    "                print(elem, a[indexer-1], a[indexer+1])\n",
    "            else:\n",
    "                continue\n",
    "        except:\n",
    "            break\n",
    "elem_printer(list1)"
   ]
  },
  {
   "cell_type": "markdown",
   "metadata": {},
   "source": [
    "### 3- Using the \"random\" library, create a script to average the sum of two 6-sided dice (D6) in 10,000 releases."
   ]
  },
  {
   "cell_type": "code",
   "execution_count": null,
   "metadata": {},
   "outputs": [],
   "source": [
    "import numpy as np\n",
    "import matplotlib.pyplot as plt\n",
    "def throw_dice():\n",
    "    dice1 = random.randint(1,6)\n",
    "    dice2 = random.randint(1,6)\n",
    "    return dice1 + dice2\n",
    "\n",
    "observed_list = []\n",
    "frequencytable = {}\n",
    "for x in range(10000):\n",
    "    result = throw_dice()\n",
    "    observed_list.append(result)\n",
    "    if result in frequencytable.keys():\n",
    "        frequencytable[result] += 1\n",
    "    else:\n",
    "        frequencytable[result] = 1\n",
    "\n",
    "total = 0\n",
    "for key,value in frequencytable.items():\n",
    "    total = total + (key*value)\n",
    "\n",
    "\n",
    "\n",
    "avg = total/10000\n",
    "print(avg)\n",
    "print(sorted(frequencytable.items()))\n",
    "\n",
    "avrg = sum(observed_list)/len(observed_list)\n",
    "print(avrg)\n",
    "\n",
    "plt.hist(observed_list, 11)\n",
    "\n",
    "\n",
    "\n"
   ]
  },
  {
   "cell_type": "markdown",
   "metadata": {},
   "source": [
    "### 4 - [Project Euler - Problem 3](https://projecteuler.net/problem=3)  \n",
    "  \n",
    "The prime factors of 13195 are 5, 7, 13 and 29.  \n",
    "What is the largest prime factor of the number 600851475143 ?"
   ]
  },
  {
   "cell_type": "code",
   "execution_count": 17,
   "metadata": {},
   "outputs": [
    {
     "ename": "TypeError",
     "evalue": "'float' object cannot be interpreted as an integer",
     "output_type": "error",
     "traceback": [
      "\u001b[0;31m---------------------------------------------------------------------------\u001b[0m",
      "\u001b[0;31mTypeError\u001b[0m                                 Traceback (most recent call last)",
      "\u001b[0;32m/var/folders/pt/26yk257s5nd579ngn9gyw3k40000gn/T/ipykernel_28824/4033390725.py\u001b[0m in \u001b[0;36m<module>\u001b[0;34m\u001b[0m\n\u001b[1;32m     18\u001b[0m \u001b[0;34m\u001b[0m\u001b[0m\n\u001b[1;32m     19\u001b[0m \u001b[0mt0\u001b[0m \u001b[0;34m=\u001b[0m \u001b[0mtime\u001b[0m\u001b[0;34m.\u001b[0m\u001b[0mtime\u001b[0m\u001b[0;34m(\u001b[0m\u001b[0;34m)\u001b[0m\u001b[0;34m\u001b[0m\u001b[0;34m\u001b[0m\u001b[0m\n\u001b[0;32m---> 20\u001b[0;31m \u001b[0mprint\u001b[0m\u001b[0;34m(\u001b[0m\u001b[0mprimefacorizater_1\u001b[0m\u001b[0;34m(\u001b[0m\u001b[0;36m600851475143\u001b[0m\u001b[0;34m)\u001b[0m\u001b[0;34m)\u001b[0m\u001b[0;34m\u001b[0m\u001b[0;34m\u001b[0m\u001b[0m\n\u001b[0m\u001b[1;32m     21\u001b[0m \u001b[0mtimestamp\u001b[0m \u001b[0;34m=\u001b[0m \u001b[0mtime\u001b[0m\u001b[0;34m.\u001b[0m\u001b[0mtime\u001b[0m\u001b[0;34m(\u001b[0m\u001b[0;34m)\u001b[0m\u001b[0;34m\u001b[0m\u001b[0;34m\u001b[0m\u001b[0m\n\u001b[1;32m     22\u001b[0m \u001b[0mruntime\u001b[0m \u001b[0;34m=\u001b[0m \u001b[0mtimestamp\u001b[0m\u001b[0;34m-\u001b[0m\u001b[0mt0\u001b[0m\u001b[0;34m\u001b[0m\u001b[0;34m\u001b[0m\u001b[0m\n",
      "\u001b[0;32m/var/folders/pt/26yk257s5nd579ngn9gyw3k40000gn/T/ipykernel_28824/4033390725.py\u001b[0m in \u001b[0;36mprimefacorizater_1\u001b[0;34m(number)\u001b[0m\n\u001b[1;32m     10\u001b[0m     \u001b[0ma\u001b[0m \u001b[0;34m=\u001b[0m \u001b[0mrange\u001b[0m\u001b[0;34m(\u001b[0m\u001b[0;36m2\u001b[0m\u001b[0;34m,\u001b[0m \u001b[0mnumber\u001b[0m\u001b[0;34m)\u001b[0m\u001b[0;34m\u001b[0m\u001b[0;34m\u001b[0m\u001b[0m\n\u001b[1;32m     11\u001b[0m     \u001b[0;32mfor\u001b[0m \u001b[0mx\u001b[0m \u001b[0;32min\u001b[0m \u001b[0ma\u001b[0m\u001b[0;34m:\u001b[0m\u001b[0;34m\u001b[0m\u001b[0;34m\u001b[0m\u001b[0m\n\u001b[0;32m---> 12\u001b[0;31m         \u001b[0ma\u001b[0m \u001b[0;34m=\u001b[0m \u001b[0mrange\u001b[0m\u001b[0;34m(\u001b[0m\u001b[0;36m2\u001b[0m\u001b[0;34m,\u001b[0m\u001b[0mnumber\u001b[0m\u001b[0;34m)\u001b[0m\u001b[0;34m\u001b[0m\u001b[0;34m\u001b[0m\u001b[0m\n\u001b[0m\u001b[1;32m     13\u001b[0m         \u001b[0;32mif\u001b[0m \u001b[0mnumber\u001b[0m\u001b[0;34m%\u001b[0m\u001b[0mx\u001b[0m \u001b[0;34m==\u001b[0m \u001b[0;36m0\u001b[0m\u001b[0;34m:\u001b[0m\u001b[0;34m\u001b[0m\u001b[0;34m\u001b[0m\u001b[0m\n\u001b[1;32m     14\u001b[0m             \u001b[0mprime_factors\u001b[0m\u001b[0;34m.\u001b[0m\u001b[0mappend\u001b[0m\u001b[0;34m(\u001b[0m\u001b[0mx\u001b[0m\u001b[0;34m)\u001b[0m\u001b[0;34m\u001b[0m\u001b[0;34m\u001b[0m\u001b[0m\n",
      "\u001b[0;31mTypeError\u001b[0m: 'float' object cannot be interpreted as an integer"
     ]
    }
   ],
   "source": [
    "import time\n",
    "def prime_checker(number):\n",
    "    for i in range(2,number):\n",
    "        if float(number) % i == 0:\n",
    "            return False\n",
    "    return True\n",
    "\n",
    "def primefacorizater_1(number):\n",
    "    prime_factors = []\n",
    "    a = range(2, number)\n",
    "    for x in a:\n",
    "        a = range(2,number)\n",
    "        if number%x == 0:\n",
    "            prime_factors.append(x)\n",
    "            number = number/x\n",
    "            x = 1\n",
    "    return prime_factors \n",
    "\n",
    "t0 = time.time()\n",
    "print(primefacorizater_1(600851475143))\n",
    "timestamp = time.time()\n",
    "runtime = timestamp-t0\n",
    "print(runtime)"
   ]
  },
  {
   "cell_type": "code",
   "execution_count": 8,
   "metadata": {},
   "outputs": [
    {
     "name": "stdout",
     "output_type": "stream",
     "text": [
      "[71, 839, 1471, 6857]\n",
      "0.0015418529510498047\n"
     ]
    }
   ],
   "source": [
    "\n",
    "def prime_factorizator_2(number):\n",
    "    prime_factors = []\n",
    "    i = 1\n",
    "    while (i < number):\n",
    "        i += 1\n",
    "        if number%i == 0:\n",
    "            prime_factors.append(i)\n",
    "            number = number/i\n",
    "            i = 1\n",
    "    return prime_factors\n",
    "\n",
    "t0 = time.time()\n",
    "print(prime_factorizator_2(600851475143))\n",
    "timestamp = time.time()\n",
    "runtime = timestamp-t0\n",
    "print(runtime)"
   ]
  },
  {
   "cell_type": "markdown",
   "metadata": {},
   "source": [
    "### 5 - [Project Euler - Problem 4](https://projecteuler.net/problem=4)  \n",
    "\n",
    "#### Largest palindrome product\n",
    "\n",
    "\"A palindromic number reads the same both ways. The largest palindrome made from the product of two 2-digit numbers is 9009 = 91 × 99.\"  \n",
    "\n",
    "**Find the largest palindrome made from the product of two 3-digit numbers.**"
   ]
  },
  {
   "cell_type": "markdown",
   "metadata": {},
   "source": [
    "###### Hint: How to reverse a string?"
   ]
  },
  {
   "cell_type": "code",
   "execution_count": 19,
   "metadata": {},
   "outputs": [
    {
     "name": "stdout",
     "output_type": "stream",
     "text": [
      "astring\n",
      "2\n",
      "3\n",
      "range(2, 5)\n"
     ]
    }
   ],
   "source": [
    "a = 'astring'\n",
    "list1 = [a,2,3]\n",
    "\n",
    "for x in list1:\n",
    "    print(x)\n",
    "    x = a\n",
    "\n",
    "a = range(2,5)\n",
    "print(a)"
   ]
  },
  {
   "cell_type": "code",
   "execution_count": null,
   "metadata": {},
   "outputs": [],
   "source": []
  },
  {
   "cell_type": "code",
   "execution_count": null,
   "metadata": {
    "collapsed": false,
    "jupyter": {
     "outputs_hidden": false
    }
   },
   "outputs": [],
   "source": [
    "'A random string'[-1::-1]"
   ]
  },
  {
   "cell_type": "code",
   "execution_count": 28,
   "metadata": {},
   "outputs": [
    {
     "name": "stdout",
     "output_type": "stream",
     "text": [
      "906609\n"
     ]
    }
   ],
   "source": [
    "def string_reverser(string_in):\n",
    "    reversed_string = string_in[-1::-1]\n",
    "    return reversed_string\n",
    "\n",
    "def palindrom_checker(string_in):\n",
    "    if string_in == string_reverser(string_in):\n",
    "        return True\n",
    "    else:\n",
    "        return False\n",
    "\n",
    "\n",
    "largest_palindrom = 0\n",
    "for i in range(100,1000):\n",
    "    for j in range(100,1000):\n",
    "        product = i * j\n",
    "        if palindrom_checker(str(product)) == True and product > largest_palindrom:\n",
    "            largest_palindrom = product\n",
    "\n",
    "print(largest_palindrom)"
   ]
  },
  {
   "cell_type": "markdown",
   "metadata": {},
   "source": [
    "### 6 - [Project Euler - Problem 14](https://projecteuler.net/problem=14)  \n",
    "\n",
    "#### Longest Collatz sequence\n",
    "\n",
    "\n",
    "The following iterative sequence is defined for the set of positive integers:\n",
    "\n",
    "n → n/2 (n is even)\n",
    "n → 3n + 1 (n is odd)\n",
    "\n",
    "Using the rule above and starting with 13, we generate the following sequence:\n",
    "\n",
    "13 → 40 → 20 → 10 → 5 → 16 → 8 → 4 → 2 → 1\n",
    "It can be seen that this sequence (starting at 13 and finishing at 1) contains 10 terms. Although it has not been proved yet (Collatz Problem), it is thought that all starting numbers finish at 1.\n",
    "\n",
    "**Which starting number, under one million, produces the longest chain?**\n",
    "\n",
    "NOTE: Once the chain starts the terms are allowed to go above one million."
   ]
  },
  {
   "cell_type": "code",
   "execution_count": 48,
   "metadata": {},
   "outputs": [
    {
     "name": "stdout",
     "output_type": "stream",
     "text": [
      "525\n",
      "837799\n"
     ]
    }
   ],
   "source": [
    "longest_chain = 0\n",
    "chain = []\n",
    "longest_starting_number = 0\n",
    "for i in range(1, 1000001):\n",
    "    j = i\n",
    "    chain = []\n",
    "    chain.append(j)\n",
    "\n",
    "    while j != 1:\n",
    "        if j % 2 == 0:\n",
    "            j = j/2\n",
    "            chain.append(j)\n",
    "        else:\n",
    "            j = 3*j + 1\n",
    "            chain.append(j)\n",
    "    if len(chain) > longest_chain:\n",
    "        longest_chain = len(chain)\n",
    "        longest_starting_number = i\n",
    "print(longest_chain)\n",
    "print(longest_starting_number)"
   ]
  },
  {
   "cell_type": "code",
   "execution_count": 55,
   "metadata": {},
   "outputs": [
    {
     "name": "stdout",
     "output_type": "stream",
     "text": [
      "[(999999, 259), (999998, 259), (999997, 114), (999996, 114), (999995, 259)]\n"
     ]
    }
   ],
   "source": [
    "sequence = []\n",
    "for i in range(1, 1000000):\n",
    "    j = i\n",
    "    chain = []\n",
    "    chain.append(j)\n",
    "    while j != 1:\n",
    "        if j % 2 == 0:\n",
    "            j = j/2\n",
    "            chain.append(j)\n",
    "        else:\n",
    "            j = 3*j + 1\n",
    "            chain.append(j)\n",
    "    sequence.append((i, len(chain)))\n",
    "\n",
    "\n",
    "print(sorted(sequence, key = lambda x: x[1], reverse=True)[0:5])"
   ]
  }
 ],
 "metadata": {
  "kernelspec": {
   "display_name": "Python 3 (ipykernel)",
   "language": "python",
   "name": "python3"
  },
  "language_info": {
   "codemirror_mode": {
    "name": "ipython",
    "version": 3
   },
   "file_extension": ".py",
   "mimetype": "text/x-python",
   "name": "python",
   "nbconvert_exporter": "python",
   "pygments_lexer": "ipython3",
   "version": "3.9.13"
  }
 },
 "nbformat": 4,
 "nbformat_minor": 4
}
