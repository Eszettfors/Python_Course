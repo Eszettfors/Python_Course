{
 "cells": [
  {
   "cell_type": "markdown",
   "id": "c599973e-d0fd-4cc8-ad63-419ba848eebb",
   "metadata": {},
   "source": [
    "###this is my first code"
   ]
  },
  {
   "cell_type": "markdown",
   "id": "9a3bf4ce-3e34-4dfd-bc69-3d52e939e07c",
   "metadata": {},
   "source": []
  }
 ],
 "metadata": {
  "kernelspec": {
   "display_name": "Python 3 (ipykernel)",
   "language": "python",
   "name": "python3"
  },
  "language_info": {
   "codemirror_mode": {
    "name": "ipython",
    "version": 3
   },
   "file_extension": ".py",
   "mimetype": "text/x-python",
   "name": "python",
   "nbconvert_exporter": "python",
   "pygments_lexer": "ipython3",
   "version": "3.9.13"
  }
 },
 "nbformat": 4,
 "nbformat_minor": 5
}
