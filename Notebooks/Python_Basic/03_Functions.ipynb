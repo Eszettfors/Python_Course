{
 "cells": [
  {
   "cell_type": "code",
   "execution_count": null,
   "metadata": {},
   "outputs": [],
   "source": [
    "import time\n",
    "import random\n",
    "from IPython.display import clear_output"
   ]
  },
  {
   "cell_type": "markdown",
   "metadata": {},
   "source": [
    "# Introduction to Python  \n",
    "\n",
    "## [Functions](https://docs.python.org/3.0/tutorial/controlflow.html#defining-functions)"
   ]
  },
  {
   "cell_type": "markdown",
   "metadata": {},
   "source": [
    "+ A function is a block of code which only runs when it is called.  \n",
    "+ You can pass data, known as parameters, into a function.  \n",
    "+ A function can return data as a result.  "
   ]
  },
  {
   "cell_type": "markdown",
   "metadata": {},
   "source": [
    "#### Sintax:\n",
    "\n",
    "    def function_name(<optional parameters>):\n",
    "      ...\n",
    "      return <something>         (optional)\n",
    "      yield  <something>         (optional)\n",
    "      ...\n",
    "\n",
    "\n",
    "#### Function Parameters: Parameters are the names that appear in the function definition.\n",
    "#### Function Arguments: Arguments are the names that appear in the function call.\n",
    "\n",
    "![](../../Data/Figs/function1.png)\n",
    "\n",
    "\n",
    "#### Keyword Arguments and Positional Arguments\n",
    "\n",
    "![](../../Data/Figs/function2.png)\n",
    "\n",
    "\n",
    "#### Types of Parameters:\n",
    "+ Positional or keyword\n",
    "\n",
    "        def func(pos1, key1=None):\n",
    "            pass\n",
    "            \n",
    "\n",
    "+ Positional-only\n",
    "\n",
    "        def func(pos_only1, pos_only2, /, positional_or_keyword):\n",
    "            pass\n",
    "\n",
    "\n",
    "+ Keyword-only\n",
    "\n",
    "        def func(pos_only1, pos_only2, *, key_only1, key_only2): \n",
    "            pass\n",
    "\n",
    "\n",
    "+ Var-positional\n",
    "\n",
    "        def func(*args): \n",
    "            pass\n",
    "\n",
    "\n",
    "+ Var-keyword\n",
    "\n",
    "        def func(**kwargs): \n",
    "            pass\n",
    "\n",
    "\n",
    "\n",
    "(source: https://medium.com/better-programming/python-parameters-and-arguments-demystified-e4f77b6d002e)"
   ]
  },
  {
   "cell_type": "markdown",
   "metadata": {},
   "source": [
    "### Now let's explore practical examples"
   ]
  },
  {
   "cell_type": "markdown",
   "metadata": {},
   "source": [
    "#### A function without parameters, and not returning anything"
   ]
  },
  {
   "cell_type": "code",
   "execution_count": 4,
   "metadata": {},
   "outputs": [],
   "source": [
    "def my_function1():\n",
    "    print(\"Hello, dear Python user!\")"
   ]
  },
  {
   "cell_type": "code",
   "execution_count": 5,
   "metadata": {},
   "outputs": [
    {
     "name": "stdout",
     "output_type": "stream",
     "text": [
      "Hello, dear Python user!\n"
     ]
    }
   ],
   "source": [
    "my_function1()"
   ]
  },
  {
   "cell_type": "code",
   "execution_count": 6,
   "metadata": {},
   "outputs": [
    {
     "name": "stdout",
     "output_type": "stream",
     "text": [
      "Hello, dear Python user!\n",
      "None\n"
     ]
    }
   ],
   "source": [
    "x = my_function1()\n",
    "print(x)"
   ]
  },
  {
   "cell_type": "code",
   "execution_count": 7,
   "metadata": {},
   "outputs": [
    {
     "data": {
      "text/plain": [
       "NoneType"
      ]
     },
     "execution_count": 7,
     "metadata": {},
     "output_type": "execute_result"
    }
   ],
   "source": [
    "type(x)"
   ]
  },
  {
   "cell_type": "markdown",
   "metadata": {},
   "source": [
    "#### A function with parameters, returning values"
   ]
  },
  {
   "cell_type": "code",
   "execution_count": 9,
   "metadata": {},
   "outputs": [],
   "source": [
    "def do_sum(x,y):\n",
    "    print('will sum x and y')\n",
    "    return x + y\n",
    "    print('done')   #will be ignored"
   ]
  },
  {
   "cell_type": "code",
   "execution_count": 11,
   "metadata": {},
   "outputs": [
    {
     "name": "stdout",
     "output_type": "stream",
     "text": [
      "will sum x and y\n"
     ]
    }
   ],
   "source": [
    "a = do_sum(2,9)"
   ]
  },
  {
   "cell_type": "code",
   "execution_count": 12,
   "metadata": {},
   "outputs": [
    {
     "name": "stdout",
     "output_type": "stream",
     "text": [
      "11\n"
     ]
    }
   ],
   "source": [
    "print(a)"
   ]
  },
  {
   "cell_type": "code",
   "execution_count": 13,
   "metadata": {},
   "outputs": [
    {
     "name": "stdout",
     "output_type": "stream",
     "text": [
      "will sum x and y\n"
     ]
    },
    {
     "data": {
      "text/plain": [
       "'onestring'"
      ]
     },
     "execution_count": 13,
     "metadata": {},
     "output_type": "execute_result"
    }
   ],
   "source": [
    "do_sum('one','string')"
   ]
  },
  {
   "cell_type": "code",
   "execution_count": 14,
   "metadata": {},
   "outputs": [
    {
     "name": "stdout",
     "output_type": "stream",
     "text": [
      "will sum x and y\n"
     ]
    },
    {
     "data": {
      "text/plain": [
       "[1, 2, 3, 4]"
      ]
     },
     "execution_count": 14,
     "metadata": {},
     "output_type": "execute_result"
    }
   ],
   "source": [
    "do_sum([1,2],[3,4])"
   ]
  },
  {
   "cell_type": "markdown",
   "metadata": {},
   "source": [
    "#### When the arguments are not compatible with operations --> error"
   ]
  },
  {
   "cell_type": "code",
   "execution_count": 15,
   "metadata": {},
   "outputs": [
    {
     "name": "stdout",
     "output_type": "stream",
     "text": [
      "will sum x and y\n"
     ]
    },
    {
     "ename": "TypeError",
     "evalue": "unsupported operand type(s) for +: 'int' and 'list'",
     "output_type": "error",
     "traceback": [
      "\u001b[0;31m---------------------------------------------------------------------------\u001b[0m",
      "\u001b[0;31mTypeError\u001b[0m                                 Traceback (most recent call last)",
      "\u001b[0;32m/var/folders/pt/26yk257s5nd579ngn9gyw3k40000gn/T/ipykernel_67074/442455865.py\u001b[0m in \u001b[0;36m<module>\u001b[0;34m\u001b[0m\n\u001b[0;32m----> 1\u001b[0;31m \u001b[0mdo_sum\u001b[0m\u001b[0;34m(\u001b[0m\u001b[0;36m2\u001b[0m\u001b[0;34m,\u001b[0m\u001b[0;34m[\u001b[0m\u001b[0;36m2\u001b[0m\u001b[0;34m,\u001b[0m\u001b[0;36m3\u001b[0m\u001b[0;34m]\u001b[0m\u001b[0;34m)\u001b[0m  \u001b[0;31m#error\u001b[0m\u001b[0;34m\u001b[0m\u001b[0;34m\u001b[0m\u001b[0m\n\u001b[0m",
      "\u001b[0;32m/var/folders/pt/26yk257s5nd579ngn9gyw3k40000gn/T/ipykernel_67074/2192012767.py\u001b[0m in \u001b[0;36mdo_sum\u001b[0;34m(x, y)\u001b[0m\n\u001b[1;32m      1\u001b[0m \u001b[0;32mdef\u001b[0m \u001b[0mdo_sum\u001b[0m\u001b[0;34m(\u001b[0m\u001b[0mx\u001b[0m\u001b[0;34m,\u001b[0m\u001b[0my\u001b[0m\u001b[0;34m)\u001b[0m\u001b[0;34m:\u001b[0m\u001b[0;34m\u001b[0m\u001b[0;34m\u001b[0m\u001b[0m\n\u001b[1;32m      2\u001b[0m     \u001b[0mprint\u001b[0m\u001b[0;34m(\u001b[0m\u001b[0;34m'will sum x and y'\u001b[0m\u001b[0;34m)\u001b[0m\u001b[0;34m\u001b[0m\u001b[0;34m\u001b[0m\u001b[0m\n\u001b[0;32m----> 3\u001b[0;31m     \u001b[0;32mreturn\u001b[0m \u001b[0mx\u001b[0m \u001b[0;34m+\u001b[0m \u001b[0my\u001b[0m\u001b[0;34m\u001b[0m\u001b[0;34m\u001b[0m\u001b[0m\n\u001b[0m\u001b[1;32m      4\u001b[0m     \u001b[0mprint\u001b[0m\u001b[0;34m(\u001b[0m\u001b[0;34m'done'\u001b[0m\u001b[0;34m)\u001b[0m   \u001b[0;31m#will be ignored\u001b[0m\u001b[0;34m\u001b[0m\u001b[0;34m\u001b[0m\u001b[0m\n",
      "\u001b[0;31mTypeError\u001b[0m: unsupported operand type(s) for +: 'int' and 'list'"
     ]
    }
   ],
   "source": [
    "do_sum(2,[2,3])  #error"
   ]
  },
  {
   "cell_type": "code",
   "execution_count": 16,
   "metadata": {},
   "outputs": [
    {
     "name": "stdout",
     "output_type": "stream",
     "text": [
      "will sum x and y\n",
      "11\n"
     ]
    }
   ],
   "source": [
    "x = do_sum(6,5)\n",
    "print(x)"
   ]
  },
  {
   "cell_type": "code",
   "execution_count": null,
   "metadata": {},
   "outputs": [],
   "source": [
    "def is_even(number):\n",
    "    if number%2 == 0:\n",
    "        return True\n",
    "    else:\n",
    "        return False"
   ]
  },
  {
   "cell_type": "code",
   "execution_count": null,
   "metadata": {},
   "outputs": [],
   "source": [
    "response = is_even(2342)\n",
    "print(response)"
   ]
  },
  {
   "cell_type": "markdown",
   "metadata": {},
   "source": [
    "#### Reminder: tuple unpacking"
   ]
  },
  {
   "cell_type": "code",
   "execution_count": null,
   "metadata": {},
   "outputs": [],
   "source": [
    "x,y,*z,t = 1,2,3,4,5,6\n",
    "print(x)\n",
    "print(y)\n",
    "print(z)\n",
    "print(t)"
   ]
  },
  {
   "cell_type": "markdown",
   "metadata": {},
   "source": [
    "#### A function with a variable number of parameters (var-positional)"
   ]
  },
  {
   "cell_type": "code",
   "execution_count": null,
   "metadata": {},
   "outputs": [],
   "source": [
    "def many_args(*args):\n",
    "    print(f\"the tuple contains {len(args)} arguments\")\n",
    "    print(args)\n",
    "    for arg in args:\n",
    "        print(arg)"
   ]
  },
  {
   "cell_type": "code",
   "execution_count": null,
   "metadata": {},
   "outputs": [],
   "source": [
    "many_args(1,2,3,4,5,6,6)"
   ]
  },
  {
   "cell_type": "code",
   "execution_count": null,
   "metadata": {},
   "outputs": [],
   "source": [
    "def do_multiple_sum(*args):\n",
    "    print(args)\n",
    "    print(f'total is {sum(args)}')\n",
    "    print('the total is {}'.format(sum(args)))\n",
    "    return sum(args)"
   ]
  },
  {
   "cell_type": "code",
   "execution_count": null,
   "metadata": {},
   "outputs": [],
   "source": [
    "y = do_multiple_sum(23, 45, 18,45,21)\n",
    "print(y)"
   ]
  },
  {
   "cell_type": "code",
   "execution_count": null,
   "metadata": {},
   "outputs": [],
   "source": [
    "do_multiple_sum(1,2,3,4,5,6,7,8,9,10)"
   ]
  },
  {
   "cell_type": "markdown",
   "metadata": {},
   "source": [
    "#### A function without variable number of parameters (positional and keyword)"
   ]
  },
  {
   "cell_type": "code",
   "execution_count": null,
   "metadata": {},
   "outputs": [],
   "source": [
    "def many_args_and_kwargs(*args, **kwargs):\n",
    "    print(args)\n",
    "    print()\n",
    "    print(kwargs)"
   ]
  },
  {
   "cell_type": "code",
   "execution_count": null,
   "metadata": {},
   "outputs": [],
   "source": [
    "many_args_and_kwargs(2,3,4,5,6, name='Renato',inst='FGV', place='Botafogo', yearclass='2021.1')"
   ]
  },
  {
   "cell_type": "code",
   "execution_count": null,
   "metadata": {},
   "outputs": [],
   "source": [
    "many_args_and_kwargs(message='Hello World')"
   ]
  },
  {
   "cell_type": "code",
   "execution_count": null,
   "metadata": {},
   "outputs": [],
   "source": [
    "def grades(**kwargs):\n",
    "    for key, value in kwargs.items():\n",
    "        print(f'The key is {key} and the value is {value}')\n",
    "    if 'Math' in kwargs:\n",
    "        print(f'The Math grade is {kwargs[\"Math\"]}')\n",
    "    else:\n",
    "        print('No grades for Math')"
   ]
  },
  {
   "cell_type": "code",
   "execution_count": null,
   "metadata": {},
   "outputs": [],
   "source": [
    "grades(Physics=9,Language=8, History=6, )"
   ]
  },
  {
   "cell_type": "code",
   "execution_count": null,
   "metadata": {},
   "outputs": [],
   "source": [
    "grades(Python=8)"
   ]
  },
  {
   "cell_type": "code",
   "execution_count": null,
   "metadata": {},
   "outputs": [],
   "source": [
    "def show_and_sum(*args):\n",
    "    for value in args:\n",
    "        print(f'Value:\\t{value:7.2f}')\n",
    "    print('_______________')\n",
    "    print(f'Sum:\\t{sum(args):7.2f}')"
   ]
  },
  {
   "cell_type": "code",
   "execution_count": null,
   "metadata": {},
   "outputs": [],
   "source": [
    "show_and_sum(23,45,124,34.6,98.236)"
   ]
  },
  {
   "cell_type": "code",
   "execution_count": null,
   "metadata": {},
   "outputs": [],
   "source": [
    "def greeting():\n",
    "    name = input('What is your name? ')\n",
    "    print(f'How are you today, {name} ?')"
   ]
  },
  {
   "cell_type": "code",
   "execution_count": null,
   "metadata": {},
   "outputs": [],
   "source": [
    "greeting()"
   ]
  },
  {
   "cell_type": "markdown",
   "metadata": {},
   "source": [
    "### Default parameters"
   ]
  },
  {
   "cell_type": "code",
   "execution_count": null,
   "metadata": {},
   "outputs": [],
   "source": [
    "def forecast(weather = 'rainy', umidity = 'high'):\n",
    "    print(f'The umidity is {umidity}')\n",
    "    print(f'The weather forecast is {weather}')"
   ]
  },
  {
   "cell_type": "code",
   "execution_count": null,
   "metadata": {},
   "outputs": [],
   "source": [
    "forecast()"
   ]
  },
  {
   "cell_type": "code",
   "execution_count": null,
   "metadata": {},
   "outputs": [],
   "source": [
    "forecast(umidity = 'low')"
   ]
  },
  {
   "cell_type": "code",
   "execution_count": null,
   "metadata": {},
   "outputs": [],
   "source": [
    "forecast(umidity='low', weather='sunny')"
   ]
  },
  {
   "cell_type": "code",
   "execution_count": null,
   "metadata": {},
   "outputs": [],
   "source": [
    "forecast('low','sunny')"
   ]
  },
  {
   "cell_type": "markdown",
   "metadata": {},
   "source": [
    "### Recursive functions\n",
    "\n",
    "![](../../Data/figs/recursive.jpg)"
   ]
  },
  {
   "cell_type": "code",
   "execution_count": 2,
   "metadata": {},
   "outputs": [
    {
     "name": "stdout",
     "output_type": "stream",
     "text": [
      "9227465\n",
      "1.4713411331176758\n"
     ]
    }
   ],
   "source": [
    "import time\n",
    "def bad_fibonacci(n):\n",
    "    if n <= 2:\n",
    "        return 1\n",
    "    else:\n",
    "        return bad_fibonacci(n-1) + bad_fibonacci(n-2)\n",
    "    \n",
    "t0 = time.time()\n",
    "print(bad_fibonacci(35))\n",
    "print(time.time() - t0)"
   ]
  },
  {
   "cell_type": "code",
   "execution_count": 40,
   "metadata": {},
   "outputs": [
    {
     "name": "stdout",
     "output_type": "stream",
     "text": [
      "9227465\n",
      "0.0001430511474609375\n"
     ]
    }
   ],
   "source": [
    "def good_fibonacci(n):\n",
    "    x = 1\n",
    "    y = 0\n",
    "    for elem in range(n-1):\n",
    "        x,y = x+y, x\n",
    "    return(x)\n",
    "    \n",
    "t0 = time.time()\n",
    "print(good_fibonacci(35))\n",
    "print(time.time() - t0)"
   ]
  },
  {
   "cell_type": "code",
   "execution_count": 79,
   "metadata": {},
   "outputs": [
    {
     "name": "stdout",
     "output_type": "stream",
     "text": [
      "0.0027569289207458494\n"
     ]
    }
   ],
   "source": [
    "def my_fibonacci(n):\n",
    "    x = 1\n",
    "    y = 0\n",
    "    for number in range(n-1):\n",
    "        x = x + y\n",
    "        y = x\n",
    "    return y\n",
    "\n",
    "avg_my = []\n",
    "for x in range(1000):\n",
    "    t0_my = time.time()\n",
    "    my_fibonacci(35)\n",
    "    fib_time = (time.time()-t0_my)\n",
    "    avg_my.append(fib_time)\n",
    "\n",
    "avg_my = sum(avg_my) / len(avg_my)\n",
    "\n",
    "avg_good = []\n",
    "for x in range(1000):\n",
    "    t0_good = time.time()\n",
    "    good_fibonacci(35)\n",
    "    fib_time = (time.time()-t0_my)\n",
    "    avg_good.append(fib_time)\n",
    "\n",
    "avg_good = sum(avg_good) / len(avg_good)\n",
    "\n",
    "\n",
    "print(avg_good)\n",
    "print(avg_my)"
   ]
  },
  {
   "cell_type": "code",
   "execution_count": null,
   "metadata": {},
   "outputs": [],
   "source": []
  },
  {
   "cell_type": "code",
   "execution_count": 60,
   "metadata": {},
   "outputs": [],
   "source": [
    "def bmi(weight=0, height=0):\n",
    "    if weight == 0:\n",
    "        weight = input('What is your weight? ')\n",
    "    if not str(weight).isdigit():\n",
    "        print('Invalid input')\n",
    "        bmi()\n",
    "        return\n",
    "    if height == 0:\n",
    "        height = input('How tall are you? ')\n",
    "    if not str(height).isdigit():\n",
    "        print('Invalid input')\n",
    "        bmi(weight=weight)\n",
    "        return\n",
    "    BMI = float(weight)/((float(height)/100)**2)\n",
    "    print(f'Your body mass index (BMI) is {BMI}')"
   ]
  },
  {
   "cell_type": "code",
   "execution_count": null,
   "metadata": {},
   "outputs": [],
   "source": [
    "bmi()"
   ]
  },
  {
   "cell_type": "markdown",
   "metadata": {},
   "source": [
    "How to treat the user input?"
   ]
  },
  {
   "cell_type": "code",
   "execution_count": null,
   "metadata": {},
   "outputs": [],
   "source": [
    "def get_height(height):\n",
    "    height = str(height)\n",
    "    print(height)\n",
    "    height = height.replace(',','.')\n",
    "    print(height)\n",
    "    return height"
   ]
  },
  {
   "cell_type": "code",
   "execution_count": null,
   "metadata": {},
   "outputs": [],
   "source": [
    "get_height('1,87')"
   ]
  },
  {
   "cell_type": "markdown",
   "metadata": {},
   "source": [
    "### [Generator Functions](https://www.programiz.com/python-programming/generator)\n",
    "\n",
    "+ _yield_: Similar to the _return_, but freezes the actual state of the function instance  \n",
    "+ _next_ yields the generator values one at at time, until it ends with : StopIteration  "
   ]
  },
  {
   "cell_type": "code",
   "execution_count": null,
   "metadata": {},
   "outputs": [],
   "source": [
    "def squares(number):\n",
    "    while True:\n",
    "        yield(number**2)\n",
    "        number+=1"
   ]
  },
  {
   "cell_type": "code",
   "execution_count": null,
   "metadata": {},
   "outputs": [],
   "source": [
    "squares(4)"
   ]
  },
  {
   "cell_type": "code",
   "execution_count": null,
   "metadata": {},
   "outputs": [],
   "source": [
    "gen1 = squares(5)\n",
    "gen2 = squares(5)"
   ]
  },
  {
   "cell_type": "code",
   "execution_count": null,
   "metadata": {},
   "outputs": [],
   "source": [
    "for i in range(10):\n",
    "    print(next(gen1))"
   ]
  },
  {
   "cell_type": "code",
   "execution_count": null,
   "metadata": {},
   "outputs": [],
   "source": [
    "print(next(gen2))"
   ]
  },
  {
   "cell_type": "code",
   "execution_count": null,
   "metadata": {},
   "outputs": [],
   "source": [
    "print(type(squares))\n",
    "print(type(gen1))"
   ]
  },
  {
   "cell_type": "code",
   "execution_count": null,
   "metadata": {},
   "outputs": [],
   "source": [
    "def counting_time():\n",
    "    now = time.time()\n",
    "    while True:\n",
    "        yield(time.time() - now)"
   ]
  },
  {
   "cell_type": "code",
   "execution_count": null,
   "metadata": {},
   "outputs": [],
   "source": [
    "player1 = counting_time()\n",
    "player2 = counting_time()"
   ]
  },
  {
   "cell_type": "code",
   "execution_count": null,
   "metadata": {},
   "outputs": [],
   "source": [
    "next(player1)"
   ]
  },
  {
   "cell_type": "code",
   "execution_count": null,
   "metadata": {},
   "outputs": [],
   "source": [
    "next(player2)"
   ]
  },
  {
   "cell_type": "code",
   "execution_count": null,
   "metadata": {},
   "outputs": [],
   "source": [
    "next(player2)"
   ]
  },
  {
   "cell_type": "code",
   "execution_count": null,
   "metadata": {},
   "outputs": [],
   "source": [
    "next(player1) - next(player2)"
   ]
  },
  {
   "cell_type": "code",
   "execution_count": null,
   "metadata": {},
   "outputs": [],
   "source": [
    "next(player2) - next(player1)"
   ]
  },
  {
   "cell_type": "code",
   "execution_count": null,
   "metadata": {},
   "outputs": [],
   "source": [
    "next(player1)"
   ]
  },
  {
   "cell_type": "code",
   "execution_count": null,
   "metadata": {},
   "outputs": [],
   "source": [
    "next(player2)"
   ]
  },
  {
   "cell_type": "markdown",
   "metadata": {},
   "source": [
    "#### An example: the horse's game"
   ]
  },
  {
   "cell_type": "code",
   "execution_count": null,
   "metadata": {},
   "outputs": [],
   "source": [
    "def horse():\n",
    "    position = 0\n",
    "    while True:\n",
    "        step = random.randint(1,3)\n",
    "        position += step\n",
    "        yield position        "
   ]
  },
  {
   "cell_type": "code",
   "execution_count": null,
   "metadata": {},
   "outputs": [],
   "source": [
    "Apollo = horse()\n",
    "Rosie = horse()\n",
    "Dexter = horse()\n",
    "Connie = horse()\n",
    "Pepper = horse()\n",
    "Bobby = horse()\n",
    "Malhado = horse()\n",
    "\n",
    "horses = [Apollo, Rosie, Dexter, Connie, Pepper, Bobby, Malhado]\n",
    "\n",
    "while True:\n",
    "    positions = []\n",
    "    clear_output()\n",
    "    for racer in horses:\n",
    "        positions.append(next(racer))\n",
    "    for position in positions:\n",
    "        print('*' * position)\n",
    "    if max(positions) > 40:\n",
    "        gen_winner = horses[positions.index(max(positions))]\n",
    "        winner = [name for name in globals() if globals()[name] is gen_winner][0]\n",
    "        print(f'The winner is {winner}!')\n",
    "        break\n",
    "    time.sleep(1)\n",
    "print(positions)"
   ]
  },
  {
   "cell_type": "markdown",
   "metadata": {},
   "source": [
    "#### Documenting a function (docstrings)"
   ]
  },
  {
   "cell_type": "code",
   "execution_count": null,
   "metadata": {},
   "outputs": [],
   "source": [
    "help(print)"
   ]
  },
  {
   "cell_type": "code",
   "execution_count": null,
   "metadata": {},
   "outputs": [],
   "source": [
    "def my_function(string):\n",
    "    '''This function does almost nothing\n",
    "    It receives a name as input and prints\n",
    "    the uppercase version of it'''\n",
    "    print(string.upper())"
   ]
  },
  {
   "cell_type": "code",
   "execution_count": null,
   "metadata": {},
   "outputs": [],
   "source": [
    "help(my_function)"
   ]
  },
  {
   "cell_type": "code",
   "execution_count": null,
   "metadata": {},
   "outputs": [],
   "source": [
    "my_function?"
   ]
  },
  {
   "cell_type": "code",
   "execution_count": null,
   "metadata": {},
   "outputs": [],
   "source": [
    "my_function('The Wizard Duck')"
   ]
  },
  {
   "cell_type": "markdown",
   "metadata": {},
   "source": [
    "### [Type hints](https://docs.python.org/3/library/typing.html)\n",
    "\n",
    "The Python runtime does not enforce function and variable type annotations, but they can be used, since Python 3.5, by third party tools such as type checkers, IDEs, linters, etc."
   ]
  },
  {
   "cell_type": "code",
   "execution_count": null,
   "metadata": {},
   "outputs": [],
   "source": [
    "def addTwo(x):\n",
    "    return x + 2"
   ]
  },
  {
   "cell_type": "code",
   "execution_count": null,
   "metadata": {},
   "outputs": [],
   "source": [
    "def newaddTwo(x : int) -> int:\n",
    "    return x + 2"
   ]
  },
  {
   "cell_type": "code",
   "execution_count": null,
   "metadata": {},
   "outputs": [],
   "source": [
    "addTwo(5)"
   ]
  },
  {
   "cell_type": "code",
   "execution_count": null,
   "metadata": {},
   "outputs": [],
   "source": [
    "newaddTwo(5)"
   ]
  },
  {
   "cell_type": "code",
   "execution_count": null,
   "metadata": {},
   "outputs": [],
   "source": [
    "addTwo('two')"
   ]
  },
  {
   "cell_type": "code",
   "execution_count": null,
   "metadata": {},
   "outputs": [],
   "source": [
    "newaddTwo('two')"
   ]
  }
 ],
 "metadata": {
  "kernelspec": {
   "display_name": "Python 3 (ipykernel)",
   "language": "python",
   "name": "python3"
  },
  "language_info": {
   "codemirror_mode": {
    "name": "ipython",
    "version": 3
   },
   "file_extension": ".py",
   "mimetype": "text/x-python",
   "name": "python",
   "nbconvert_exporter": "python",
   "pygments_lexer": "ipython3",
   "version": "3.9.13"
  }
 },
 "nbformat": 4,
 "nbformat_minor": 4
}
