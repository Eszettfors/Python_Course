{
 "cells": [
  {
   "cell_type": "code",
   "execution_count": 11,
   "id": "5b291db0",
   "metadata": {},
   "outputs": [],
   "source": [
    "text = \"\"\"\n",
    "\n",
    "This may be confusing since forking and cloning appear to be similar.\n",
    "\n",
    "However, remember, forking creates your own copy of a repository, meaning that you can make changes as much as you’d like. If you want, afterwards, you can create a pull request to integrate your changes to the original repository.\n",
    "\n",
    "Cloning is more of a download of a remote repository onto your computer. If you don’t have the permissions to make changes to it, your push attempt will be rejected by the remote. Otherwise, your changes will be directly integrated into the repository when you push.\n",
    "\n",
    "Here’s a little quiz for you to check your understanding. Have fun!\n",
    "\n",
    "\"\"\""
   ]
  },
  {
   "cell_type": "code",
   "execution_count": 12,
   "id": "4c72df0f",
   "metadata": {},
   "outputs": [
    {
     "name": "stdout",
     "output_type": "stream",
     "text": [
      "\n",
      "\n",
      "This may be confusing since forking and cloning appear to be similar.\n",
      "\n",
      "However, remember, forking creates your own copy of a repository, meaning that you can make changes as much as you’d like. If you want, afterwards, you can create a pull request to integrate your changes to the original repository.\n",
      "\n",
      "Cloning is more of a download of a remote repository onto your computer. If you don’t have the permissions to make changes to it, your push attempt will be rejected by the remote. Otherwise, your changes will be directly integrated into the repository when you push.\n",
      "\n",
      "Here’s a little quiz for you to check your understanding. Have fun!\n",
      "\n",
      "\n"
     ]
    }
   ],
   "source": [
    "print(text)"
   ]
  },
  {
   "cell_type": "code",
   "execution_count": 20,
   "id": "c55d7641",
   "metadata": {},
   "outputs": [],
   "source": [
    "list_of_words = text.split()"
   ]
  },
  {
   "cell_type": "code",
   "execution_count": 21,
   "id": "7679d1b4",
   "metadata": {},
   "outputs": [
    {
     "name": "stdout",
     "output_type": "stream",
     "text": [
      "['This', 'may', 'be', 'confusing', 'since', 'forking', 'and', 'cloning', 'appear', 'to', 'be', 'similar.', 'However,', 'remember,', 'forking', 'creates', 'your', 'own', 'copy', 'of', 'a', 'repository,', 'meaning', 'that', 'you', 'can', 'make', 'changes', 'as', 'much', 'as', 'you’d', 'like.', 'If', 'you', 'want,', 'afterwards,', 'you', 'can', 'create', 'a', 'pull', 'request', 'to', 'integrate', 'your', 'changes', 'to', 'the', 'original', 'repository.', 'Cloning', 'is', 'more', 'of', 'a', 'download', 'of', 'a', 'remote', 'repository', 'onto', 'your', 'computer.', 'If', 'you', 'don’t', 'have', 'the', 'permissions', 'to', 'make', 'changes', 'to', 'it,', 'your', 'push', 'attempt', 'will', 'be', 'rejected', 'by', 'the', 'remote.', 'Otherwise,', 'your', 'changes', 'will', 'be', 'directly', 'integrated', 'into', 'the', 'repository', 'when', 'you', 'push.', 'Here’s', 'a', 'little', 'quiz', 'for', 'you', 'to', 'check', 'your', 'understanding.', 'Have', 'fun!']\n"
     ]
    }
   ],
   "source": [
    "print(list_of_words)"
   ]
  },
  {
   "cell_type": "code",
   "execution_count": 24,
   "id": "6fb19855",
   "metadata": {},
   "outputs": [],
   "source": [
    "list_of_words = [l.lower() for l in list_of_words]"
   ]
  },
  {
   "cell_type": "code",
   "execution_count": 25,
   "id": "9af5d34a",
   "metadata": {},
   "outputs": [
    {
     "name": "stdout",
     "output_type": "stream",
     "text": [
      "['this', 'may', 'be', 'confusing', 'since', 'forking', 'and', 'cloning', 'appear', 'to', 'be', 'similar.', 'however,', 'remember,', 'forking', 'creates', 'your', 'own', 'copy', 'of', 'a', 'repository,', 'meaning', 'that', 'you', 'can', 'make', 'changes', 'as', 'much', 'as', 'you’d', 'like.', 'if', 'you', 'want,', 'afterwards,', 'you', 'can', 'create', 'a', 'pull', 'request', 'to', 'integrate', 'your', 'changes', 'to', 'the', 'original', 'repository.', 'cloning', 'is', 'more', 'of', 'a', 'download', 'of', 'a', 'remote', 'repository', 'onto', 'your', 'computer.', 'if', 'you', 'don’t', 'have', 'the', 'permissions', 'to', 'make', 'changes', 'to', 'it,', 'your', 'push', 'attempt', 'will', 'be', 'rejected', 'by', 'the', 'remote.', 'otherwise,', 'your', 'changes', 'will', 'be', 'directly', 'integrated', 'into', 'the', 'repository', 'when', 'you', 'push.', 'here’s', 'a', 'little', 'quiz', 'for', 'you', 'to', 'check', 'your', 'understanding.', 'have', 'fun!']\n"
     ]
    }
   ],
   "source": [
    "print(list_of_words)"
   ]
  },
  {
   "cell_type": "code",
   "execution_count": 31,
   "id": "b5e1dc88",
   "metadata": {},
   "outputs": [],
   "source": [
    "list_of_words = [word.strip(\",'.;\") for word in list_of_words]"
   ]
  },
  {
   "cell_type": "code",
   "execution_count": null,
   "id": "a4efecbd",
   "metadata": {},
   "outputs": [],
   "source": []
  },
  {
   "cell_type": "code",
   "execution_count": 33,
   "id": "66053d98",
   "metadata": {},
   "outputs": [
    {
     "data": {
      "text/plain": [
       "['this',\n",
       " 'may',\n",
       " 'be',\n",
       " 'confusing',\n",
       " 'since',\n",
       " 'forking',\n",
       " 'and',\n",
       " 'cloning',\n",
       " 'appear',\n",
       " 'to',\n",
       " 'be',\n",
       " 'similar',\n",
       " 'however',\n",
       " 'remember',\n",
       " 'forking',\n",
       " 'creates',\n",
       " 'your',\n",
       " 'own',\n",
       " 'copy',\n",
       " 'of',\n",
       " 'a',\n",
       " 'repository',\n",
       " 'meaning',\n",
       " 'that',\n",
       " 'you',\n",
       " 'can',\n",
       " 'make',\n",
       " 'changes',\n",
       " 'as',\n",
       " 'much',\n",
       " 'as',\n",
       " 'you’d',\n",
       " 'like',\n",
       " 'if',\n",
       " 'you',\n",
       " 'want',\n",
       " 'afterwards',\n",
       " 'you',\n",
       " 'can',\n",
       " 'create',\n",
       " 'a',\n",
       " 'pull',\n",
       " 'request',\n",
       " 'to',\n",
       " 'integrate',\n",
       " 'your',\n",
       " 'changes',\n",
       " 'to',\n",
       " 'the',\n",
       " 'original',\n",
       " 'repository',\n",
       " 'cloning',\n",
       " 'is',\n",
       " 'more',\n",
       " 'of',\n",
       " 'a',\n",
       " 'download',\n",
       " 'of',\n",
       " 'a',\n",
       " 'remote',\n",
       " 'repository',\n",
       " 'onto',\n",
       " 'your',\n",
       " 'computer',\n",
       " 'if',\n",
       " 'you',\n",
       " 'don’t',\n",
       " 'have',\n",
       " 'the',\n",
       " 'permissions',\n",
       " 'to',\n",
       " 'make',\n",
       " 'changes',\n",
       " 'to',\n",
       " 'it',\n",
       " 'your',\n",
       " 'push',\n",
       " 'attempt',\n",
       " 'will',\n",
       " 'be',\n",
       " 'rejected',\n",
       " 'by',\n",
       " 'the',\n",
       " 'remote',\n",
       " 'otherwise',\n",
       " 'your',\n",
       " 'changes',\n",
       " 'will',\n",
       " 'be',\n",
       " 'directly',\n",
       " 'integrated',\n",
       " 'into',\n",
       " 'the',\n",
       " 'repository',\n",
       " 'when',\n",
       " 'you',\n",
       " 'push',\n",
       " 'here’s',\n",
       " 'a',\n",
       " 'little',\n",
       " 'quiz',\n",
       " 'for',\n",
       " 'you',\n",
       " 'to',\n",
       " 'check',\n",
       " 'your',\n",
       " 'understanding',\n",
       " 'have',\n",
       " 'fun!']"
      ]
     },
     "execution_count": 33,
     "metadata": {},
     "output_type": "execute_result"
    }
   ],
   "source": [
    "list_of_words"
   ]
  },
  {
   "cell_type": "code",
   "execution_count": 37,
   "id": "a3cf7f3e",
   "metadata": {},
   "outputs": [],
   "source": [
    "freqdist = {}\n",
    "for word in list_of_words:\n",
    "    if word in freqdist:\n",
    "        freqdist[word] = freqdist[word] + 1 # if word already exists -> increase frequence by one\n",
    "    else: \n",
    "        freqdist[word] = 1 # if word doesn't exist -> create the word \n",
    "    \n"
   ]
  },
  {
   "cell_type": "code",
   "execution_count": 38,
   "id": "d32e2e8b",
   "metadata": {},
   "outputs": [
    {
     "data": {
      "text/plain": [
       "{'this': 1,\n",
       " 'may': 1,\n",
       " 'be': 4,\n",
       " 'confusing': 1,\n",
       " 'since': 1,\n",
       " 'forking': 2,\n",
       " 'and': 1,\n",
       " 'cloning': 2,\n",
       " 'appear': 1,\n",
       " 'to': 6,\n",
       " 'similar': 1,\n",
       " 'however': 1,\n",
       " 'remember': 1,\n",
       " 'creates': 1,\n",
       " 'your': 6,\n",
       " 'own': 1,\n",
       " 'copy': 1,\n",
       " 'of': 3,\n",
       " 'a': 5,\n",
       " 'repository': 4,\n",
       " 'meaning': 1,\n",
       " 'that': 1,\n",
       " 'you': 6,\n",
       " 'can': 2,\n",
       " 'make': 2,\n",
       " 'changes': 4,\n",
       " 'as': 2,\n",
       " 'much': 1,\n",
       " 'you’d': 1,\n",
       " 'like': 1,\n",
       " 'if': 2,\n",
       " 'want': 1,\n",
       " 'afterwards': 1,\n",
       " 'create': 1,\n",
       " 'pull': 1,\n",
       " 'request': 1,\n",
       " 'integrate': 1,\n",
       " 'the': 4,\n",
       " 'original': 1,\n",
       " 'is': 1,\n",
       " 'more': 1,\n",
       " 'download': 1,\n",
       " 'remote': 2,\n",
       " 'onto': 1,\n",
       " 'computer': 1,\n",
       " 'don’t': 1,\n",
       " 'have': 2,\n",
       " 'permissions': 1,\n",
       " 'it': 1,\n",
       " 'push': 2,\n",
       " 'attempt': 1,\n",
       " 'will': 2,\n",
       " 'rejected': 1,\n",
       " 'by': 1,\n",
       " 'otherwise': 1,\n",
       " 'directly': 1,\n",
       " 'integrated': 1,\n",
       " 'into': 1,\n",
       " 'when': 1,\n",
       " 'here’s': 1,\n",
       " 'little': 1,\n",
       " 'quiz': 1,\n",
       " 'for': 1,\n",
       " 'check': 1,\n",
       " 'understanding': 1,\n",
       " 'fun!': 1}"
      ]
     },
     "execution_count": 38,
     "metadata": {},
     "output_type": "execute_result"
    }
   ],
   "source": [
    "freqdist"
   ]
  },
  {
   "cell_type": "code",
   "execution_count": 47,
   "id": "8d5cc772",
   "metadata": {},
   "outputs": [],
   "source": [
    "l1 = []\n",
    "for key in freqdist:\n",
    "    l1.append(freqdist.get(key))\n",
    "l1.sort()    "
   ]
  },
  {
   "cell_type": "code",
   "execution_count": 48,
   "id": "5b5c38a6",
   "metadata": {},
   "outputs": [
    {
     "data": {
      "text/plain": [
       "[1,\n",
       " 1,\n",
       " 1,\n",
       " 1,\n",
       " 1,\n",
       " 1,\n",
       " 1,\n",
       " 1,\n",
       " 1,\n",
       " 1,\n",
       " 1,\n",
       " 1,\n",
       " 1,\n",
       " 1,\n",
       " 1,\n",
       " 1,\n",
       " 1,\n",
       " 1,\n",
       " 1,\n",
       " 1,\n",
       " 1,\n",
       " 1,\n",
       " 1,\n",
       " 1,\n",
       " 1,\n",
       " 1,\n",
       " 1,\n",
       " 1,\n",
       " 1,\n",
       " 1,\n",
       " 1,\n",
       " 1,\n",
       " 1,\n",
       " 1,\n",
       " 1,\n",
       " 1,\n",
       " 1,\n",
       " 1,\n",
       " 1,\n",
       " 1,\n",
       " 1,\n",
       " 1,\n",
       " 1,\n",
       " 1,\n",
       " 1,\n",
       " 1,\n",
       " 1,\n",
       " 2,\n",
       " 2,\n",
       " 2,\n",
       " 2,\n",
       " 2,\n",
       " 2,\n",
       " 2,\n",
       " 2,\n",
       " 2,\n",
       " 2,\n",
       " 3,\n",
       " 4,\n",
       " 4,\n",
       " 4,\n",
       " 4,\n",
       " 5,\n",
       " 6,\n",
       " 6,\n",
       " 6]"
      ]
     },
     "execution_count": 48,
     "metadata": {},
     "output_type": "execute_result"
    }
   ],
   "source": [
    "l1"
   ]
  },
  {
   "cell_type": "code",
   "execution_count": 60,
   "id": "88fa5cc7",
   "metadata": {},
   "outputs": [
    {
     "name": "stdout",
     "output_type": "stream",
     "text": [
      "[0, 1, 2, 3, 4, 5, 6, 7, 8]\n",
      "[0, 1, 2, 3, 4, 5, 6, 7, 8]\n"
     ]
    }
   ],
   "source": [
    "l1 = [x for x in range(0,9)]\n",
    "print(l1)\n",
    "l2 = []\n",
    "for x in range(0,9):\n",
    "    l2.append(x)\n",
    "print(l2)"
   ]
  },
  {
   "cell_type": "code",
   "execution_count": null,
   "id": "fea2cb9e",
   "metadata": {},
   "outputs": [],
   "source": []
  },
  {
   "cell_type": "code",
   "execution_count": 53,
   "id": "c6506f87",
   "metadata": {},
   "outputs": [
    {
     "data": {
      "text/plain": [
       "[0, 1, 2, 3, 4, 5, 6, 7, 8]"
      ]
     },
     "execution_count": 53,
     "metadata": {},
     "output_type": "execute_result"
    }
   ],
   "source": []
  },
  {
   "cell_type": "code",
   "execution_count": 54,
   "id": "3c9b0064",
   "metadata": {},
   "outputs": [],
   "source": []
  },
  {
   "cell_type": "code",
   "execution_count": null,
   "id": "be648265",
   "metadata": {},
   "outputs": [],
   "source": []
  }
 ],
 "metadata": {
  "kernelspec": {
   "display_name": "Python 3 (ipykernel)",
   "language": "python",
   "name": "python3"
  },
  "language_info": {
   "codemirror_mode": {
    "name": "ipython",
    "version": 3
   },
   "file_extension": ".py",
   "mimetype": "text/x-python",
   "name": "python",
   "nbconvert_exporter": "python",
   "pygments_lexer": "ipython3",
   "version": "3.9.13"
  }
 },
 "nbformat": 4,
 "nbformat_minor": 5
}
